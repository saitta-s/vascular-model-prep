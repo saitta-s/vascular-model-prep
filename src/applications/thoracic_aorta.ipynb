{
 "cells": [
  {
   "cell_type": "code",
   "execution_count": 29,
   "metadata": {},
   "outputs": [],
   "source": [
    "import sys\n",
    "sys.path.append('../')\n",
    "sys.path.append('./src')\n",
    "import os\n",
    "import os.path as osp\n",
    "import numpy as np\n",
    "import pyvista as pv\n",
    "pv.set_jupyter_backend('trame')\n",
    "pv.start_xvfb()\n",
    "from time import time\n",
    "import networkx as nx\n",
    "from pymeshfix._meshfix import PyTMesh\n",
    "\n",
    "from vascular_prep import io\n",
    "from vascular_prep import utils as ut\n",
    "\n",
    "tic = time()"
   ]
  },
  {
   "cell_type": "code",
   "execution_count": 30,
   "metadata": {},
   "outputs": [],
   "source": [
    "##------------------------ Options\n",
    "input_aorta_model_file = \"../../data/labels/aorta/0002.nii.gz\"\n",
    "input_lv_model_file = \"../../data/labels/left_ventricle/0002.nii.gz\"\n",
    "output_dir = '../../data/outputs/0002'\n",
    "os.makedirs(output_dir, exist_ok=True)\n",
    "delta = 0.05 # incremental parameter for iterative thresholding\n",
    "show_plots = False"
   ]
  },
  {
   "cell_type": "code",
   "execution_count": 31,
   "metadata": {},
   "outputs": [
    {
     "name": "stdout",
     "output_type": "stream",
     "text": [
      "Reading data... ImageData input...   2.91s\n",
      "Reading data... ImageData input...   1.75s\n"
     ]
    }
   ],
   "source": [
    "##------------------------ Read input file(s)\n",
    "ao_surf = io.read_file(input_aorta_model_file)\n",
    "\n",
    "if input_lv_model_file is not None:\n",
    "    lv_surf = io.read_file(input_lv_model_file)\n",
    "else:\n",
    "    raise NotImplementedError()"
   ]
  },
  {
   "cell_type": "code",
   "execution_count": 32,
   "metadata": {},
   "outputs": [
    {
     "name": "stdout",
     "output_type": "stream",
     "text": [
      "Meshfix...   4.92s\n",
      "Smoothing...   10.90s\n"
     ]
    },
    {
     "name": "stderr",
     "output_type": "stream",
     "text": [
      "  ** 25683.sol  NOT FOUND. USE DEFAULT METRIC.\n"
     ]
    }
   ],
   "source": [
    "##------------------------ Remeshing and smoothing\n",
    "ao_surf = ut.meshfix(ao_surf)\n",
    "ao_surf = ut.polydata_smoothing(ao_surf, lamb=0.95, iterations=100)#.smooth(500)\n",
    "ao_surf = ut.mmg_remesh(ao_surf, hausd=0.5, hmax=1.5, hmin=0.9, max_aspect_ratio=5, max_iter=3, verbose=False)\n",
    "\n",
    "lv_surf.decimate(0.6)\n",
    "\n",
    "if show_plots:\n",
    "    pl = pv.Plotter()\n",
    "    pl.add_mesh(ao_surf, color='w', opacity=1, show_edges=True)\n",
    "    pl.add_mesh(lv_surf, color='pink',opacity=0.5)\n",
    "    pl.show_axes()\n",
    "    pl.show()"
   ]
  },
  {
   "cell_type": "code",
   "execution_count": 33,
   "metadata": {},
   "outputs": [
    {
     "name": "stdout",
     "output_type": "stream",
     "text": [
      "Source point detection...\n"
     ]
    }
   ],
   "source": [
    "##------------------------ Detect aortic valve plane (inlet)\n",
    "print('Source point detection...')\n",
    "lv_surf.compute_implicit_distance(ao_surf, inplace=True)\n",
    "av_region = lv_surf.threshold_percent(percent=0.1, scalars='implicit_distance', invert=True)\n",
    "av_center = np.array(av_region.center)\n",
    "av_radius = np.mean([np.linalg.norm(pt - av_center) for pt in av_region.points])\n",
    "av_normal = pv.fit_plane_to_points(av_region.points).point_normals.mean(0)\n",
    "\n",
    "# av_normal should point toward the ascendin aorta, not toward the left ventricle\n",
    "lv_com = lv_surf.center\n",
    "p1 = av_center + av_normal*20\n",
    "if np.linalg.norm(p1 - lv_com) < np.linalg.norm(av_center - lv_com):\n",
    "    av_normal = -1 * av_normal\n",
    "\n",
    "if show_plots:\n",
    "    pl = pv.Plotter()\n",
    "    pl.add_mesh(ao_surf, color='w', opacity=0.5)\n",
    "    pl.add_points(av_center, color='g', point_size=10, render_points_as_spheres=True)\n",
    "    pl.add_mesh(pv.Arrow(start=av_center, direction=av_normal, scale=20), color='k')\n",
    "    pl.show_axes()\n",
    "    pl.show()"
   ]
  },
  {
   "cell_type": "code",
   "execution_count": 34,
   "metadata": {},
   "outputs": [
    {
     "name": "stdout",
     "output_type": "stream",
     "text": [
      "Centerline seed detection...\n",
      "A total of 5 outlets were detected\n"
     ]
    }
   ],
   "source": [
    "##------------------------ Detect centerline keypoints\n",
    "print('Centerline seed detection...')\n",
    "source_pt, _ = ao_surf.ray_trace(av_center-20*av_normal, av_center+20*av_normal)\n",
    "st_id = ao_surf.find_closest_point(source_pt.T)\n",
    "source_pt = ao_surf.points[st_id]\n",
    "\n",
    "# Detect aortic centerline endpoints\n",
    "G_ao = ut.convert_triangle_mesh_to_graph(ao_surf)\n",
    "shortest_paths_lengths = nx.single_source_shortest_path_length(G_ao, st_id)\n",
    "ao_surf['Geodesics'] = np.zeros((ao_surf.n_points,))\n",
    "for j in range(ao_surf.n_points):\n",
    "    geo_path = shortest_paths_lengths[j]\n",
    "    ao_surf['Geodesics'][j] = geo_path\n",
    "ao_surf['Geodesics_n'] = (ao_surf['Geodesics'] - np.min(ao_surf['Geodesics'])) / np.ptp(ao_surf['Geodesics'])\n",
    "desc_ao_pt = ao_surf.points[np.argmax(ao_surf['Geodesics_n'])]\n",
    "surf_with_geodesics = ao_surf.copy()\n",
    "\n",
    "# Detect ends: recursive thresholding of geodesic distance to ostia\n",
    "delta = delta\n",
    "cand_outlets = []\n",
    "for delta in np.arange(delta, 1, delta):\n",
    "    thr = ao_surf.threshold_percent(1-delta, scalars='Geodesics_n').connectivity()\n",
    "    for j in np.unique(thr['RegionId']):\n",
    "        thr_connected = thr.threshold([j, j+0.5], scalars='RegionId')\n",
    "        cand_outlets.append(np.array(thr_connected.points[np.argmax(thr_connected['Geodesics_n'])]))\n",
    "cand_outlets = np.unique(cand_outlets, axis=0)\n",
    "\n",
    "# descending aorta point\n",
    "toremove = np.argmin([np.linalg.norm(desc_ao_pt - c) for c in cand_outlets])\n",
    "cand_outlets = np.array([cand_outlets[i] for i in range(len(cand_outlets)) if i != toremove])\n",
    "print(f'A total of {len(cand_outlets) + 1} outlets were detected')\n",
    "\n",
    "if show_plots:\n",
    "    pl = pv.Plotter()\n",
    "    pl.add_mesh(ao_surf, color='w', opacity=0.5)\n",
    "    pl.add_points(source_pt, color='g', point_size=10, render_points_as_spheres=True)\n",
    "    pl.add_points(cand_outlets, color='r', point_size=15, render_points_as_spheres=True)\n",
    "    pl.add_points(desc_ao_pt, color='m', point_size=15, render_points_as_spheres=True)\n",
    "    pl.show_axes()\n",
    "    pl.show()"
   ]
  },
  {
   "cell_type": "code",
   "execution_count": 35,
   "metadata": {},
   "outputs": [
    {
     "name": "stdout",
     "output_type": "stream",
     "text": [
      "Computing centerlines...\n",
      "Cleaning surface.\n",
      "Triangulating surface.\n",
      "Computing centerlines.\n",
      "Computing centerlines...Cleaning surface.\n",
      "Triangulating surface.\n",
      "Computing centerlines.\n",
      "Computing centerlines..."
     ]
    }
   ],
   "source": [
    "##------------------------ Centerlines extraction\n",
    "print('Computing centerlines...')\n",
    "parentCenterline = ut.extract_centerline(ao_surf, list(source_pt), list(desc_ao_pt), resampling=0.1, appendEndPoints=0)\n",
    "\n",
    "# Branches centerline extraction\n",
    "centerlines = ut.extract_centerline(ao_surf, list(source_pt), [c for pt in cand_outlets for c in pt],\n",
    "                                        resampling=0.1, appendEndPoints=0).connectivity()\n",
    "\n",
    "if show_plots:\n",
    "    pl = pv.Plotter()\n",
    "    pl.add_mesh(ao_surf, color='w', opacity=0.5)\n",
    "    pl.add_mesh(parentCenterline, color='m', line_width=5,)\n",
    "    pl.add_mesh(centerlines, color='r', line_width=5)\n",
    "    pl.show_axes()\n",
    "    pl.show()"
   ]
  },
  {
   "cell_type": "code",
   "execution_count": 36,
   "metadata": {},
   "outputs": [
    {
     "name": "stdout",
     "output_type": "stream",
     "text": [
      "\n",
      "Clipping aorta proximally...\n"
     ]
    }
   ],
   "source": [
    "##------------------------ Proximal extension with extrusion\n",
    "print('\\nClipping aorta proximally...')\n",
    "\n",
    "# this loop allows to gradually move a disc along the av_normal that intersects the ascending aorta.\n",
    "n_cells = []\n",
    "dists_to_av = []\n",
    "offset_array = np.arange(-20, 20, 0.5)\n",
    "slices = []\n",
    "for i in offset_array:\n",
    "    disc_ = pv.Disc(center=av_center+i*av_normal, inner=0, outer=av_radius*3, normal=av_normal, r_res=20, c_res=20)\n",
    "    col, n_contacts = ao_surf.collision(disc_)\n",
    "    n_cells.append(n_contacts)\n",
    "\n",
    "selected_center = av_center + offset_array[np.min(np.where(np.array(n_cells) > 0)) - 1] * av_normal\n",
    "\n",
    "offset = 40\n",
    "cut_cyl = pv.Cylinder(center=selected_center,\n",
    "                      radius=av_radius,\n",
    "                      direction=av_normal,\n",
    "                      height=offset,\n",
    "                      resolution=200,\n",
    "                      capping=True).triangulate().subdivide(2)\n",
    "cut_cyl_inlet = cut_cyl.copy(deep=True)\n",
    "clipped_ao = ao_surf.clip_surface(cut_cyl, invert=False)\n",
    "clipped_ao_clean = pv.PolyData(clipped_ao.points, faces=clipped_ao.faces)\n",
    "\n",
    "edges = clipped_ao_clean.extract_feature_edges(80).connectivity()\n",
    "edge_dists_to_av = []\n",
    "for i in np.unique(edges['RegionId']):\n",
    "    thr = edges.threshold([i, i+0.5], scalars='RegionId')\n",
    "    if thr.n_points > 10:\n",
    "        edge_dists_to_av.append(np.linalg.norm(thr.center - np.array(av_center)))\n",
    "    else:\n",
    "        edge_dists_to_av.append(1000)\n",
    "idx = np.unique(edges['RegionId'])[np.argmin(edge_dists_to_av)]\n",
    "edge_2keep = edges.threshold([idx, idx+0.5], scalars='RegionId').extract_surface()\n",
    "\n",
    "# extrude edge\n",
    "extr = edge_2keep.extrude(vector=-av_normal*20, capping=False).triangulate()#.subdivide(2)\n",
    "combined_surf = clipped_ao.merge(extr).clean()"
   ]
  },
  {
   "cell_type": "code",
   "execution_count": 37,
   "metadata": {},
   "outputs": [
    {
     "name": "stderr",
     "output_type": "stream",
     "text": [
      "  ** 25683.sol  NOT FOUND. USE DEFAULT METRIC.\n"
     ]
    },
    {
     "data": {
      "text/html": [
       "<pre style=\"white-space:pre;overflow-x:auto;line-height:normal;font-family:Menlo,'DejaVu Sans Mono',consolas,'Courier New',monospace\"><span style=\"color: #808000; text-decoration-color: #808000; font-weight: bold\">Warning:</span><span style=\"color: #808000; text-decoration-color: #808000\"> Meshio doesn't know keyword RequiredVertices. Skipping.</span>\n",
       "</pre>\n"
      ],
      "text/plain": [
       "\u001b[1;33mWarning:\u001b[0m\u001b[33m Meshio doesn't know keyword RequiredVertices. Skipping.\u001b[0m\n"
      ]
     },
     "metadata": {},
     "output_type": "display_data"
    },
    {
     "data": {
      "text/html": [
       "<pre style=\"white-space:pre;overflow-x:auto;line-height:normal;font-family:Menlo,'DejaVu Sans Mono',consolas,'Courier New',monospace\"><span style=\"color: #808000; text-decoration-color: #808000; font-weight: bold\">Warning:</span><span style=\"color: #808000; text-decoration-color: #808000\"> Meshio doesn't know keyword Ridges. Skipping.</span>\n",
       "</pre>\n"
      ],
      "text/plain": [
       "\u001b[1;33mWarning:\u001b[0m\u001b[33m Meshio doesn't know keyword Ridges. Skipping.\u001b[0m\n"
      ]
     },
     "metadata": {},
     "output_type": "display_data"
    },
    {
     "data": {
      "text/html": [
       "<pre style=\"white-space:pre;overflow-x:auto;line-height:normal;font-family:Menlo,'DejaVu Sans Mono',consolas,'Courier New',monospace\"><span style=\"color: #808000; text-decoration-color: #808000; font-weight: bold\">Warning:</span><span style=\"color: #808000; text-decoration-color: #808000\"> Meshio doesn't know keyword Tangents. Skipping.</span>\n",
       "</pre>\n"
      ],
      "text/plain": [
       "\u001b[1;33mWarning:\u001b[0m\u001b[33m Meshio doesn't know keyword Tangents. Skipping.\u001b[0m\n"
      ]
     },
     "metadata": {},
     "output_type": "display_data"
    },
    {
     "data": {
      "text/html": [
       "<pre style=\"white-space:pre;overflow-x:auto;line-height:normal;font-family:Menlo,'DejaVu Sans Mono',consolas,'Courier New',monospace\"><span style=\"color: #808000; text-decoration-color: #808000; font-weight: bold\">Warning:</span><span style=\"color: #808000; text-decoration-color: #808000\"> Meshio doesn't know keyword TangentAtVertices. Skipping.</span>\n",
       "</pre>\n"
      ],
      "text/plain": [
       "\u001b[1;33mWarning:\u001b[0m\u001b[33m Meshio doesn't know keyword TangentAtVertices. Skipping.\u001b[0m\n"
      ]
     },
     "metadata": {},
     "output_type": "display_data"
    }
   ],
   "source": [
    "##------------------------ Clip aorta at inlet\n",
    "combined_surf.save(f'aorta.stl')\n",
    "mfix = PyTMesh(False)  # False removes extra verbose output\n",
    "mfix.load_file(f'aorta.stl')\n",
    "os.remove(f'aorta.stl')\n",
    "mfix.fill_small_boundaries(nbe=100, refine=True)\n",
    "vert, faces = mfix.return_arrays()\n",
    "triangles = np.empty((faces.shape[0], 4), dtype=faces.dtype)\n",
    "triangles[:, -3:] = faces\n",
    "triangles[:, 0] = 3\n",
    "mesh = pv.PolyData(vert, triangles)\n",
    "#mesh = ut.mmg_remesh(mesh, hausd=0.5, hmax=1.5, hmin=0.9, max_aspect_ratio=100, max_iter=3, verbose=False).connectivity()\n",
    "\n",
    "# clip combined surf\n",
    "cut_cyl2 = pv.Cylinder(center=selected_center-av_normal*offset/2,\n",
    "                      radius=av_radius*2,\n",
    "                      direction=av_normal,\n",
    "                      height=offset*0.95,\n",
    "                      resolution=200,\n",
    "                      capping=True).triangulate().subdivide(4)\n",
    "cut_cyl_inlet = cut_cyl2.copy(deep=True)\n",
    "combined_surf = mesh.clip_surface(cut_cyl2, invert=False).connectivity()\n",
    "combined_surf = ut.mmg_remesh(combined_surf, hausd=0.1, hmax=1.5, hmin=0.3, max_aspect_ratio=100, max_iter=3, verbose=False).connectivity()"
   ]
  },
  {
   "cell_type": "code",
   "execution_count": 38,
   "metadata": {},
   "outputs": [
    {
     "name": "stdout",
     "output_type": "stream",
     "text": [
      "Clipping aorta at branches...\n"
     ]
    }
   ],
   "source": [
    "##------------------------ Clip aorta at branches\n",
    "ao_surf_clipped_branches = combined_surf.copy(deep=True)\n",
    "cut_cyl_branches = []\n",
    "print('Clipping aorta at branches...')\n",
    "for cid in np.unique(centerlines['RegionId']):\n",
    "    dummy = pv.PolyData(combined_surf.points, combined_surf.faces)\n",
    "    cl = centerlines.threshold([cid, cid+0.5], scalars='RegionId').extract_surface()\n",
    "    cutoff_idx = np.max(np.where(cl['Abscissas'] < np.max(cl['Abscissas'])*0.95))\n",
    "    slice_ = dummy.slice(normal=cl['FrenetTangent'][cutoff_idx], origin=cl.points[cutoff_idx]).connectivity()\n",
    "    dists = []\n",
    "    for j in np.unique(slice_['RegionId']):\n",
    "        thr = slice_.threshold([j, j+0.5], scalars='RegionId', preference='point').extract_surface()\n",
    "        dists.append(np.linalg.norm(np.array(thr.center) - cl.points[cutoff_idx]))\n",
    "    region2keep = np.unique(slice_['RegionId'])[np.argmin(dists)]\n",
    "    thr = slice_.threshold([region2keep, region2keep+0.5], scalars='RegionId', preference='point').extract_surface()\n",
    "    radius_for_cut = np.max([np.linalg.norm(pt - cl.points[cutoff_idx]) for pt in thr.points])\n",
    "\n",
    "    # create cylinder for cut\n",
    "    cut_cyl = pv.Cylinder(center=cl.points[cutoff_idx] + cl['FrenetTangent'][cutoff_idx] * 2,\n",
    "                          direction=cl['FrenetTangent'][cutoff_idx],\n",
    "                          radius=radius_for_cut*1.2,\n",
    "                          height=5)\n",
    "    cut_cyl_branches.append(cut_cyl)\n",
    "\n",
    "    # clip surface with plane\n",
    "    ao_surf_clipped_branches = ao_surf_clipped_branches.clip_surface(cut_cyl, invert=False).connectivity('largest')"
   ]
  },
  {
   "cell_type": "code",
   "execution_count": 39,
   "metadata": {},
   "outputs": [],
   "source": [
    "##------------------------ Clip descending aorta\n",
    "if parentCenterline['Abscissas'][0] < parentCenterline['Abscissas'][2]:\n",
    "    cutoff_idx = np.max(np.where(parentCenterline['Abscissas'] < np.max(parentCenterline['Abscissas'])*0.9))\n",
    "else:\n",
    "    cutoff_idx = np.min(np.where(parentCenterline['Abscissas'] < np.max(parentCenterline['Abscissas']) * 0.9))\n",
    "\n",
    "# create cylinder for cut\n",
    "cut_cyl = pv.Cylinder(center=parentCenterline.points[cutoff_idx] + parentCenterline['FrenetTangent'][cutoff_idx] * 2,\n",
    "                      direction=parentCenterline['FrenetTangent'][cutoff_idx],\n",
    "                      radius=2.2 * parentCenterline['MaximumInscribedSphereRadius'][cutoff_idx],\n",
    "                      height=3)\n",
    "cut_cyl_desc = cut_cyl.copy(deep=True)\n",
    "\n",
    "# clip surface with plane\n",
    "ao_surf_clipped_all = ao_surf_clipped_branches.clip_surface(cut_cyl, invert=False).connectivity('largest')\n",
    "ao_surf_clipped_all.save(f'aorta.stl')\n",
    "\n",
    "mfix = PyTMesh(False)  # False removes extra verbose output\n",
    "mfix.load_file(f'aorta.stl')\n",
    "os.remove(f'aorta.stl')\n",
    "mfix.fill_small_boundaries(nbe=20, refine=True)\n",
    "vert, faces = mfix.return_arrays()\n",
    "triangles = np.empty((faces.shape[0], 4), dtype=faces.dtype)\n",
    "triangles[:, -3:] = faces\n",
    "triangles[:, 0] = 3\n",
    "\n",
    "mesh = pv.PolyData(vert, triangles)"
   ]
  },
  {
   "cell_type": "code",
   "execution_count": 40,
   "metadata": {},
   "outputs": [
    {
     "name": "stdout",
     "output_type": "stream",
     "text": [
      "Creating subregion tags...\n"
     ]
    }
   ],
   "source": [
    "##------------------------ Assign tags to subregions\n",
    "print('Creating subregion tags...')\n",
    "ao_tagged = mesh.copy(deep=True)\n",
    "ao_tagged['tags'] = np.zeros(mesh.n_points)\n",
    "\n",
    "edges = ao_tagged.extract_feature_edges(80, boundary_edges=True, feature_edges=False, manifold_edges=False).connectivity()\n",
    "\n",
    "dist_inlet, dist_outlet = [], []\n",
    "edge_pt_ids = []\n",
    "faces = ao_tagged.faces.reshape(-1, 4)[:, 1:]\n",
    "for i in np.unique(edges['RegionId']):\n",
    "    edge = edges.threshold([i, i+0.5], scalars='RegionId').extract_surface()\n",
    "    edge_pt_ids.append(np.array(faces[ao_tagged.find_containing_cell(edge.points)]).flatten())\n",
    "\n",
    "    dist_inlet.append(np.linalg.norm(np.array(edge.center) - np.array(cut_cyl_inlet.center)))\n",
    "    dist_outlet.append(np.linalg.norm(np.array(edge.center) - np.array(cut_cyl_desc.center)))\n",
    "\n",
    "id_closest_to_inlet = np.unique(edges['RegionId'])[np.argmin(dist_inlet)]\n",
    "id_closest_to_desc = np.unique(edges['RegionId'])[np.argmin(dist_outlet)]\n",
    "for i in np.unique(edges['RegionId']):\n",
    "    edge = edges.threshold([i, i+0.5], scalars='RegionId').extract_surface()\n",
    "    if i == id_closest_to_inlet: tag = 4\n",
    "    elif i == id_closest_to_desc: tag = 2\n",
    "    else: tag = 3\n",
    "    ao_tagged['tags'][edge_pt_ids[i]] = tag"
   ]
  },
  {
   "cell_type": "code",
   "execution_count": 41,
   "metadata": {},
   "outputs": [],
   "source": [
    "if show_plots:\n",
    "    pl = pv.Plotter()\n",
    "    pl.add_mesh(ao_tagged, scalars='tags', opacity=1, show_edges=True)\n",
    "    pl.show()"
   ]
  },
  {
   "cell_type": "code",
   "execution_count": 42,
   "metadata": {},
   "outputs": [
    {
     "name": "stdout",
     "output_type": "stream",
     "text": [
      "Finished in 174.6 seconds.\n"
     ]
    }
   ],
   "source": [
    "##------------------------ Save data to file\n",
    "io.save_to_file(ao_tagged, osp.join(output_dir, 'aorta.vtp'), clear_data=False)\n",
    "io.save_to_file(centerlines, osp.join(output_dir, 'centerlines.vtp'), clear_data=False)\n",
    "io.save_to_file(parentCenterline, osp.join(output_dir, 'parentCenterline.vtp'), clear_data=False)\n",
    "\n",
    "print('Finished in {:.1f} seconds.'.format(time() - tic))"
   ]
  }
 ],
 "metadata": {
  "kernelspec": {
   "display_name": "vmp310",
   "language": "python",
   "name": "python3"
  },
  "language_info": {
   "codemirror_mode": {
    "name": "ipython",
    "version": 3
   },
   "file_extension": ".py",
   "mimetype": "text/x-python",
   "name": "python",
   "nbconvert_exporter": "python",
   "pygments_lexer": "ipython3",
   "version": "3.10.14"
  }
 },
 "nbformat": 4,
 "nbformat_minor": 2
}
